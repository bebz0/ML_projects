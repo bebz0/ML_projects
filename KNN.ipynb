{
 "cells": [
  {
   "cell_type": "markdown",
   "id": "46c5dbe6-4847-44b1-88de-4ee5a60201ff",
   "metadata": {},
   "source": [
    "# Difference in time and performance between the KNN algorithm from sclearn and the manually developed algorithm."
   ]
  },
  {
   "cell_type": "raw",
   "id": "faf3b43f-3549-453e-94f8-0a6ce31aa696",
   "metadata": {},
   "source": [
    "This task was based on:\n",
    "https://cs231n.github.io/assignments2019/assignment1/\n",
    "\n",
    "This task was dedicated to showing the difference in time and performance between KNN algoritm from sklearn and handcrafted algoritm."
   ]
  },
  {
   "cell_type": "code",
   "execution_count": 1,
   "id": "b2dcda13-6e29-4eb4-a059-a775d53d5126",
   "metadata": {},
   "outputs": [],
   "source": [
    "#PIP LIST\n",
    "import numpy as np\n",
    "from sklearn import datasets\n",
    "from sklearn.metrics import classification_report\n",
    "from sklearn.neighbors import KNeighborsClassifier\n",
    "import time\n",
    "import matplotlib.pyplot as plt"
   ]
  },
  {
   "cell_type": "markdown",
   "id": "cd71e74b-efca-45bd-89f3-62f93ed47c17",
   "metadata": {},
   "source": [
    "### CHAPTER 1. KNN algoritm"
   ]
  },
  {
   "cell_type": "code",
   "execution_count": 2,
   "id": "d47d8daa-45f5-427e-82f3-ecaf56165d16",
   "metadata": {
    "scrolled": true
   },
   "outputs": [],
   "source": [
    "# Dataset in this exercise was chosen to be from sklearn.datasets\n",
    "\n",
    "np.random.seed(12)\n",
    "digits = datasets.load_digits()\n",
    "X = digits.data  # images of digits (8x8) \n",
    "y = digits.target  # labels (0-9)\n",
    "train_border = 150\n",
    "test_border = 50\n",
    "\n",
    "dataset = datasets.load_digits()\n",
    "X_train, y_train = X[:train_border], y[:train_border]\n",
    "X_test, y_test = X[train_border:train_border+test_border], y[train_border:train_border+test_border]\n",
    "\n"
   ]
  },
  {
   "cell_type": "code",
   "execution_count": 3,
   "id": "cd6a38d6-e6fb-4e52-b4fd-3051a8690971",
   "metadata": {},
   "outputs": [],
   "source": [
    "#Handcrafted KNN algoritm \n",
    "\n",
    "class KNN_model:\n",
    "\n",
    "    def __init__(self, k_neighbors):\n",
    "        '''initiliazion model'''\n",
    "        self.k = k_neighbors\n",
    "        self.X_train = None\n",
    "        self.y_train = None\n",
    "\n",
    "    \n",
    "    def fit(self, X_train, y_train):\n",
    "        '''saving train data'''\n",
    "        self.X_train = X_train\n",
    "        self.y_train = y_train.flatten().astype(int)\n",
    "\n",
    "    \n",
    "    def euc_distance(self, x1, x2):\n",
    "        '''euclidean distance'''\n",
    "        return np.sqrt(np.sum((x1 - x2) ** 2))\n",
    "\n",
    "    def predict(self, X_test):\n",
    "        '''prediction our model on test_data'''\n",
    "        y_pred = []\n",
    "\n",
    "        for x_test in X_test:\n",
    "            \n",
    "            distances = [self.euc_distance(x_test, x_train) for x_train in self.X_train] # calculating distances\n",
    "            \n",
    "            k_id = np.argsort(distances)[:self.k] # k_nearest indicies \n",
    "            \n",
    "            k_labels = [self.y_train[i] for i in k_id] # k_nearest labels\n",
    "\n",
    "            most_commom = np.bincount(k_labels).argmax() # calculate the most common label\n",
    "            y_pred.append(most_commom) # appending to our list\n",
    "            \n",
    "\n",
    "        return np.array(y_pred)\n",
    "\n"
   ]
  },
  {
   "cell_type": "code",
   "execution_count": 4,
   "id": "14e4a017-62af-4621-b797-cb0accfa4cf4",
   "metadata": {},
   "outputs": [
    {
     "name": "stdout",
     "output_type": "stream",
     "text": [
      "              precision    recall  f1-score   support\n",
      "\n",
      "           0       1.00      1.00      1.00         6\n",
      "           1       0.80      1.00      0.89         4\n",
      "           2       1.00      1.00      1.00         5\n",
      "           3       1.00      1.00      1.00         6\n",
      "           4       1.00      0.75      0.86         4\n",
      "           5       1.00      1.00      1.00         5\n",
      "           6       1.00      1.00      1.00         6\n",
      "           7       1.00      1.00      1.00         5\n",
      "           8       1.00      1.00      1.00         4\n",
      "           9       1.00      1.00      1.00         5\n",
      "\n",
      "    accuracy                           0.98        50\n",
      "   macro avg       0.98      0.97      0.97        50\n",
      "weighted avg       0.98      0.98      0.98        50\n",
      "\n"
     ]
    }
   ],
   "source": [
    "model1 = KNN_model(3)\n",
    "_ = model1.fit(X_train, y_train)\n",
    "y_pred1 = model1.predict(X_test)\n",
    "\n",
    "res = classification_report(y_test, y_pred1)\n",
    "print(res)\n"
   ]
  },
  {
   "cell_type": "markdown",
   "id": "5f0e3194-b4a8-47d4-9800-74d068945083",
   "metadata": {},
   "source": [
    "#### We can see that our model has good acuracy, so let's move on to creating KNN algoritm from sklearn"
   ]
  },
  {
   "cell_type": "markdown",
   "id": "39241e02-11ac-4389-adee-4a83fe4798ef",
   "metadata": {},
   "source": [
    "### CHAPTER 2. KNN algoritm from sklearn"
   ]
  },
  {
   "cell_type": "code",
   "execution_count": 5,
   "id": "970852eb-9812-4c82-9285-4035ab0db9d8",
   "metadata": {},
   "outputs": [
    {
     "name": "stdout",
     "output_type": "stream",
     "text": [
      "              precision    recall  f1-score   support\n",
      "\n",
      "           0       1.00      1.00      1.00         6\n",
      "           1       0.80      1.00      0.89         4\n",
      "           2       1.00      1.00      1.00         5\n",
      "           3       1.00      1.00      1.00         6\n",
      "           4       1.00      0.75      0.86         4\n",
      "           5       1.00      1.00      1.00         5\n",
      "           6       1.00      1.00      1.00         6\n",
      "           7       1.00      1.00      1.00         5\n",
      "           8       1.00      1.00      1.00         4\n",
      "           9       1.00      1.00      1.00         5\n",
      "\n",
      "    accuracy                           0.98        50\n",
      "   macro avg       0.98      0.97      0.97        50\n",
      "weighted avg       0.98      0.98      0.98        50\n",
      "\n"
     ]
    }
   ],
   "source": [
    "model2 = KNeighborsClassifier(n_neighbors=3)\n",
    "_ = model2.fit(X_train, y_train)\n",
    "y_pred2 = model2.predict(X_test)\n",
    "\n",
    "res = classification_report(y_test, y_pred2)\n",
    "print(res)"
   ]
  },
  {
   "cell_type": "markdown",
   "id": "b5dccdf8-ef8d-461a-a87d-7543b0054490",
   "metadata": {},
   "source": [
    "### We can see that our algorithm that we made before has the same accuracy, which means it repeats the algorithm from the sklearn library. Now we will check the execution speed of these two algorithms with increasing k-nearest neighbors"
   ]
  },
  {
   "cell_type": "markdown",
   "id": "dfa5f8e9-cc7f-4f15-a143-ae85323c3161",
   "metadata": {},
   "source": [
    "### CHAPTER 3. Difference"
   ]
  },
  {
   "cell_type": "code",
   "execution_count": 6,
   "id": "19913d22-181c-4320-8aa3-d02d81cb3a6b",
   "metadata": {},
   "outputs": [
    {
     "name": "stdout",
     "output_type": "stream",
     "text": [
      "k=5: Handcrafted KNN=0.04213 с | Sklearn KNN=0.00302 с\n",
      "k=10: Handcrafted KNN=0.04175 с | Sklearn KNN=0.00201 с\n",
      "k=15: Handcrafted KNN=0.04163 с | Sklearn KNN=0.00301 с\n",
      "k=20: Handcrafted KNN=0.04140 с | Sklearn KNN=0.00201 с\n",
      "k=25: Handcrafted KNN=0.04146 с | Sklearn KNN=0.00302 с\n",
      "k=30: Handcrafted KNN=0.04168 с | Sklearn KNN=0.00315 с\n",
      "k=35: Handcrafted KNN=0.04194 с | Sklearn KNN=0.00310 с\n",
      "k=40: Handcrafted KNN=0.04228 с | Sklearn KNN=0.00310 с\n",
      "k=45: Handcrafted KNN=0.04123 с | Sklearn KNN=0.00303 с\n",
      "k=50: Handcrafted KNN=0.04134 с | Sklearn KNN=0.00201 с\n",
      "k=55: Handcrafted KNN=0.04279 с | Sklearn KNN=0.00306 с\n",
      "k=60: Handcrafted KNN=0.04026 с | Sklearn KNN=0.00302 с\n",
      "k=65: Handcrafted KNN=0.04024 с | Sklearn KNN=0.00204 с\n",
      "k=70: Handcrafted KNN=0.04204 с | Sklearn KNN=0.00200 с\n",
      "k=75: Handcrafted KNN=0.04124 с | Sklearn KNN=0.00201 с\n",
      "k=80: Handcrafted KNN=0.04763 с | Sklearn KNN=0.00316 с\n",
      "k=85: Handcrafted KNN=0.04152 с | Sklearn KNN=0.00205 с\n",
      "k=90: Handcrafted KNN=0.04190 с | Sklearn KNN=0.00301 с\n",
      "k=95: Handcrafted KNN=0.04191 с | Sklearn KNN=0.00243 с\n"
     ]
    }
   ],
   "source": [
    "# time perfomance\n",
    "ks = range(1, 100)\n",
    "manual_times = []\n",
    "sklearn_times = []\n",
    "\n",
    "for k in ks:\n",
    "    # Handcrafted algoritm\n",
    "    model_manual = KNN_model(k)\n",
    "    model_manual.fit(X_train, y_train)\n",
    "    start_manual = time.time()\n",
    "    y_pred_manual = model_manual.predict(X_test)\n",
    "    end_manual = time.time()\n",
    "    manual_times.append(end_manual - start_manual)\n",
    "\n",
    "    # Sklearn algoritm\n",
    "    model_sklearn = KNeighborsClassifier(n_neighbors=k)\n",
    "    model_sklearn.fit(X_train, y_train)\n",
    "    start_sklearn = time.time()\n",
    "    y_pred_sklearn = model_sklearn.predict(X_test)\n",
    "    end_sklearn = time.time()\n",
    "    sklearn_times.append(end_sklearn - start_sklearn)\n",
    "\n",
    "# Results\n",
    "for k, t1, t2 in zip(ks, manual_times, sklearn_times):\n",
    "    print(f\"k={k}: Handcrafted KNN={t1:.5f} с | Sklearn KNN={t2:.5f} с\") if k%5 == 0 else ''\n",
    "\n"
   ]
  },
  {
   "cell_type": "code",
   "execution_count": 7,
   "id": "0e4ace66-8063-40c9-bd1c-739e3d05e11a",
   "metadata": {},
   "outputs": [
    {
     "data": {
      "image/png": "[encoded data removed]",
      "text/plain": [
       "<Figure size 640x480 with 1 Axes>"
      ]
     },
     "metadata": {},
     "output_type": "display_data"
    }
   ],
   "source": [
    "#  Graph\n",
    "plt.plot(ks, manual_times, label=\"HandCrafted KNN\", marker='')\n",
    "plt.plot(ks, sklearn_times, label=\"Sklearn KNN\", marker='')\n",
    "plt.xlabel(\"K - neighbors\")\n",
    "plt.ylabel(\"Dime perfomance(sec)\")\n",
    "plt.title(\"Difference in time (HandCrafted vs sklearn)\")\n",
    "plt.legend()\n",
    "plt.grid(True)\n",
    "plt.show()"
   ]
  },
  {
   "cell_type": "markdown",
   "id": "1973c993-6883-4cb5-8efb-9c7a720f75a2",
   "metadata": {},
   "source": [
    "### CHAPTER 4. Conclusion"
   ]
  },
  {
   "cell_type": "markdown",
   "id": "4d621ebb-608c-48ee-8639-b3030e0718cd",
   "metadata": {},
   "source": [
    "The experimental comparison showed that the KNN implementation with sklearn is more than 20 times faster than the manually written implementation. Both implementations have the same functionality, but the library version is much more efficient due to the use of optimized data structures and low-level programming languages. The manual implementation is useful for educational purposes, but its performance is not sufficient for processing large amounts of data.\n",
    "\n",
    "The main reason for the slower performance of the manual implementation is that it\n",
    "\n",
    "* uses naive approaches to computation, such as a full search of distances to all points of the training set (without any index structures),\n",
    "\n",
    "* uses full sorting of the array of distances (np.argsort), which has a time complexity of O(n log n) instead of the possible O(n) with partial sorting,\n",
    "\n",
    "* does not use vectorization or specialized nearest neighbor search algorithms (such as KD-trees or Ball Tree).\n",
    "\n",
    "Instead, the implementation with sklearn is based on optimized C/Fortran subsystems that can significantly reduce the execution time, especially when working with large samples or in real-world machine learning tasks.\n",
    "\n",
    "The manual implementation was created primarily for educational purposes - to better understand the internal logic of KNN: how distances are calculated, how nearest neighbors are selected, and how the final class is determined. It is not focused on performance or scaling. In real-world projects, it is advisable to use proven, high-performance libraries such as scikit-learn to build effective classification models.\n",
    "\n"
   ]
  }
 ],
 "metadata": {
  "kernelspec": {
   "display_name": "Python 3 (ipykernel)",
   "language": "python",
   "name": "python3"
  },
  "language_info": {
   "codemirror_mode": {
    "name": "ipython",
    "version": 3
   },
   "file_extension": ".py",
   "mimetype": "text/x-python",
   "name": "python",
   "nbconvert_exporter": "python",
   "pygments_lexer": "ipython3",
   "version": "3.11.0"
  }
 },
 "nbformat": 4,
 "nbformat_minor": 5
}
